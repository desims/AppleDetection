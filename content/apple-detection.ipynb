{
  "cells": [
    {
      "cell_type": "markdown",
      "metadata": {},
      "source": [
        "# Deteksi dan Penghitungan Apel dengan OpenCV\n",
        "\n",
        "Contoh proyek sederhana menggunakan OpenCV untuk mendeteksi apel pada gambar."
      ]
    },
    {
      "cell_type": "code",
      "execution_count": null,
      "metadata": {},
      "outputs": [],
      "source": [
        "import cv2\n",
        "import numpy as np\n",
        "from matplotlib import pyplot as plt\n",
        "\n",
        "# Membaca gambar\n",
        "img = cv2.imread('apples.jpg')\n",
        "\n",
        "# Ubah ke HSV\n",
        "hsv = cv2.cvtColor(img, cv2.COLOR_BGR2HSV)\n",
        "\n",
        "# Range warna merah\n",
        "lower_red = np.array([0, 120, 70])\n",
        "upper_red = np.array([10, 255, 255])\n",
        "mask = cv2.inRange(hsv, lower_red, upper_red)\n",
        "\n",
        "# Masking gambar\n",
        "result = cv2.bitwise_and(img, img, mask=mask)\n",
        "\n",
        "# Tampilkan hasil\n",
        "plt.imshow(cv2.cvtColor(result, cv2.COLOR_BGR2RGB))\n",
        "plt.title('Detected Apples')\n",
        "plt.show()"
      ]
    }
  ],
  "metadata": {
    "kernelspec": {
      "display_name": "Python 3",
      "language": "python",
      "name": "python3"
    },
    "language_info": {
      "name": "python",
      "version": "3.x"
    }
  },
  "nbformat": 4,
  "nbformat_minor": 5
}